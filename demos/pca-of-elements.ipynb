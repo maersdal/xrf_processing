{
 "cells": [
  {
   "cell_type": "markdown",
   "id": "e51d5c16-1fda-4921-8bfa-f704a9de7e74",
   "metadata": {},
   "source": [
    "\n",
    "see \n",
    "https://towardsdatascience.com/pca-using-python-scikit-learn-e653f8989e60"
   ]
  },
  {
   "cell_type": "code",
   "execution_count": 3,
   "id": "d88e58f1-703a-461c-930e-fcbd8f8bb9f3",
   "metadata": {},
   "outputs": [],
   "source": [
    "import pandas as pd\n",
    "import numpy as np\n",
    "import csv\n",
    "import glob\n",
    "import seaborn as sns\n",
    "from sklearn.preprocessing import StandardScaler\n",
    "from sklearn.decomposition import PCA\n",
    "import matplotlib.pyplot as plt"
   ]
  },
  {
   "cell_type": "code",
   "execution_count": 4,
   "id": "7ce1342a-98a3-4057-9b5b-4f07929eb794",
   "metadata": {},
   "outputs": [],
   "source": [
    "\"\"\"\n",
    "ok things to have..\n",
    "code? \n",
    "type of element?\n",
    "origin?\n",
    "index is ideally unique.\n",
    "\"\"\"\n",
    "def read_csv_file(filename):\n",
    "    with open(filename) as csvfile:\n",
    "        reader = csv.reader(csvfile, delimiter=';')\n",
    "        data = {}\n",
    "        file = filename.split(\"/\")[-1]\n",
    "        method = file[:4]\n",
    "        itembigname = file.split(\" \")[0]\n",
    "        item = itembigname.split(\"_\",1)[-1]\n",
    "        data[\"method\"] = method\n",
    "        data[\"item\"] = item\n",
    "        next(reader) # skip header\n",
    "        for row in reader:\n",
    "            element = row[0]\n",
    "            line = row[1]\n",
    "            elementname = f\"{element}_{line}\"\n",
    "            area = row[4]\n",
    "            data[elementname] = int(area)\n",
    "    return data"
   ]
  },
  {
   "cell_type": "code",
   "execution_count": 5,
   "id": "5f817406-3ae5-48ec-a8d8-655a74d8ee56",
   "metadata": {},
   "outputs": [],
   "source": [
    "def find_all_data_files(folder=\"../results\"):\n",
    "    return [x.replace(\"\\\\\",\"/\") for x in glob.glob(f\"{folder}/*.csv\")]"
   ]
  },
  {
   "cell_type": "code",
   "execution_count": 6,
   "id": "6b637f64-5d90-441b-99db-9cd22ca6d5dc",
   "metadata": {},
   "outputs": [],
   "source": [
    "raw_data = []\n",
    "for filename in find_all_data_files():\n",
    "    raw_data.append(read_csv_file(filename))"
   ]
  },
  {
   "cell_type": "code",
   "execution_count": 7,
   "id": "4a6103a6-fb3f-41ea-8f8b-790875751597",
   "metadata": {},
   "outputs": [],
   "source": [
    "df = pd.DataFrame(raw_data)"
   ]
  },
  {
   "cell_type": "code",
   "execution_count": 8,
   "id": "32061ee1-7462-459b-958d-2c0fc08f6002",
   "metadata": {},
   "outputs": [],
   "source": [
    "df_nocal = df[df['item'] != \"Mn\"]\n",
    "element_columns = [col for col in df_nocal.columns if col not in [\"method\", \"item\"]]"
   ]
  },
  {
   "cell_type": "code",
   "execution_count": 9,
   "id": "feb8fe89-1971-4779-84a7-d5c7cd7bcbd6",
   "metadata": {},
   "outputs": [],
   "source": [
    "wanted_elements = [\"Fe\", \"Rb\", \"Sr\", \"Y\", \"Zr\", \"Nb\", \"Mn\"] # \"Th\" dropped"
   ]
  },
  {
   "cell_type": "code",
   "execution_count": 10,
   "id": "ea3e7648-dfc4-4089-9988-a03a28601912",
   "metadata": {},
   "outputs": [],
   "source": [
    "def standardize_columns(df_, columns):\n",
    "    \"\"\"transform mean = 0 and variance = 1, assumes gaussian distribution of columns\"\"\"\n",
    "    df = df_.copy()\n",
    "    # Separating out the features\n",
    "    x = df.loc[:, columns].values# Separating out the target\n",
    "    # y = df.loc[:,['target']].values# Standardizing the features \n",
    "    x = StandardScaler().fit_transform(x)\n",
    "    df.loc[:, columns] = x\n",
    "    df['method'] = df_['method']\n",
    "    df['item'] = df_['item']\n",
    "    return df"
   ]
  },
  {
   "cell_type": "code",
   "execution_count": 11,
   "id": "cc5a8d16-75a5-4356-926f-778108e64285",
   "metadata": {},
   "outputs": [],
   "source": [
    "def pca(df_, columns, n_components=None):\n",
    "    pca_ = PCA(n_components=n_components)\n",
    "    x = df_.loc[:, columns].values\n",
    "    pca_.fit(x)\n",
    "    df = pd.DataFrame(pca_.transform(x))\n",
    "    df['method'] = df_['method']\n",
    "    df['item'] = df_['item']\n",
    "    # df = df.append(df_[['method', 'item']])\n",
    "    return {\"transformed\":df, \"model\": pca_}"
   ]
  },
  {
   "cell_type": "code",
   "execution_count": 12,
   "id": "33e795d8-b4c5-485e-a444-d23ea90c6856",
   "metadata": {},
   "outputs": [],
   "source": [
    "def explain_model(model: PCA):\n",
    "    pc1, pc2 = model.components_\n",
    "    print(\"components:\\n\", \"pc1:\", pc1, \"\\n\", \"pc2:\", pc2)\n",
    "    print(\"explained variance ratio:\\n\", model.explained_variance_ratio_)\n",
    "    print(\"total variance in columns:\", f\"{sum(model.explained_variance_ratio_)*100:.2f}%\")\n",
    "    \n",
    "def reverse_pca(result_dict):\n",
    "    d = result_dict\n",
    "    data = d['transformed'].copy()\n",
    "    return d['model'].inverse_transform(data)"
   ]
  },
  {
   "cell_type": "code",
   "execution_count": 23,
   "id": "fc9bfd01-8f34-445f-9b71-1ea042ecea57",
   "metadata": {},
   "outputs": [],
   "source": [
    "def make_pca_and_plot(data, method, wanted_elements, filename=None):\n",
    "    if wanted_elements is None:\n",
    "        wanted_elements = [\"Fe\", \"Rb\", \"Sr\", \"Y\", \"Zr\", \"Nb\", \"Mn\"] # \"Th\" dropped\n",
    "    element_columns = [col for col in data.columns if col not in [\"method\", \"item\"]]\n",
    "    \n",
    "    # filtrer ut andre elementer\n",
    "    to_drop = []\n",
    "    for col in element_columns:\n",
    "        elm = col.split(\"_\")[0]\n",
    "        if elm not in wanted_elements:\n",
    "            to_drop.append(col)\n",
    "    df = data.drop(columns=to_drop).query(f\"method == '{method}'\").reset_index(drop=True)\n",
    "    \n",
    "    print(\"df:\\n\", df.head())\n",
    "    \n",
    "    # standariser colonnene\n",
    "    element_in_columns_ds = [col for col in df.columns if col not in [\"method\", \"item\"]]\n",
    "    std_data = standardize_columns(df, element_in_columns_ds)\n",
    "    \n",
    "    print(\"standardized:\\n\",std_data.head())\n",
    "    \n",
    "    # kjør pca\n",
    "    d = pca(std_data, element_in_columns_ds, n_components=2)\n",
    "    \n",
    "    explain_model(d['model'])\n",
    "    \n",
    "    print(\"importance of elements\")\n",
    "    pca1, pca2 = d['model'].components_\n",
    "    importance_dict = {\"element\":element_in_columns_ds, \"component_1\": pca1, \"component_2\": pca2}\n",
    "    importance_table = pd.DataFrame(importance_dict)\n",
    "    importance_table['product'] = np.abs(importance_table['component_1'] * importance_table['component_2'])\n",
    "    print(importance_table.sort_values(by=['product'], ascending=False))\n",
    "    \n",
    "    # plot data\n",
    "    finalDf = d['transformed']\n",
    "    fig = plt.figure(figsize = (10,10))\n",
    "    ax = fig.add_subplot(1,1,1) \n",
    "    ax.set_xlabel('Principal Component 1', fontsize = 15)\n",
    "    ax.set_ylabel('Principal Component 2', fontsize = 15)\n",
    "    ax.set_title('2 component PCA', fontsize = 20)\n",
    "    plt.figtext(.5,0,\", \".join([method] + element_in_columns_ds), fontsize=18, ha='center')\n",
    "    targets = list(set(finalDf['item']))\n",
    "\n",
    "    sns.reset_orig() # get original matplotlib colors\n",
    "    clrs = sns.color_palette(\"cubehelix\", n_colors=len(targets))\n",
    "\n",
    "\n",
    "    for i, target in enumerate(targets):\n",
    "        indicesToKeep = finalDf['item'] == target\n",
    "        lines = ax.scatter(finalDf.loc[indicesToKeep, 0]\n",
    "                   , finalDf.loc[indicesToKeep, 1]\n",
    "                   , s = 30)\n",
    "        lines.set_color(clrs[i])\n",
    "    ax.legend(targets)\n",
    "    ax.grid()\n",
    "    if filename:\n",
    "        plt.savefig(filename)\n"
   ]
  },
  {
   "cell_type": "code",
   "execution_count": 20,
   "id": "2b204e7e-53bf-4ef2-ad22-c3ab520191b3",
   "metadata": {},
   "outputs": [
    {
     "data": {
      "text/plain": [
       "Index(['method', 'item', 'Na_K12', 'Mg_K12', 'Al_K12', 'Si_K12', 'S_K12',\n",
       "       'Cl_K12', 'K_K12', 'Ca_K12', 'Ti_K12', 'V_K12', 'Cr_K12', 'Mn_K12',\n",
       "       'Fe_K12', 'Co_K12', 'Ni_K12', 'Cu_K12', 'Zn_K12', 'Ga_K12', 'Ge_K12',\n",
       "       'As_K12', 'Se_K12', 'Br_K12', 'Rb_K12', 'Sr_K12', 'Y_K12', 'Zr_K12',\n",
       "       'Nb_K12', 'Rh_K12', 'Rh_L1', 'Pd_K12', 'Pd_L1', 'Ag_K12', 'Ag_L1',\n",
       "       'Cd_K12', 'Cd_L1', 'Sn_K12', 'Sn_L1', 'Sb_K12', 'Sb_L1', 'Os_L1',\n",
       "       'Os_M1', 'Au_L1', 'Au_M1', 'Hg_L1', 'Hg_M1', 'Pb_L1', 'Pb_M1', 'Bi_L1',\n",
       "       'Bi_M1', 'Th_L1', 'Th_M1', 'U_L1', 'U_M1'],\n",
       "      dtype='object')"
      ]
     },
     "execution_count": 20,
     "metadata": {},
     "output_type": "execute_result"
    }
   ],
   "source": [
    "df_nocal.columns"
   ]
  },
  {
   "cell_type": "code",
   "execution_count": 15,
   "id": "1822c542-7d4e-4fbe-aa3c-22cd538cb51e",
   "metadata": {},
   "outputs": [
    {
     "data": {
      "text/html": [
       "<div>\n",
       "<style scoped>\n",
       "    .dataframe tbody tr th:only-of-type {\n",
       "        vertical-align: middle;\n",
       "    }\n",
       "\n",
       "    .dataframe tbody tr th {\n",
       "        vertical-align: top;\n",
       "    }\n",
       "\n",
       "    .dataframe thead th {\n",
       "        text-align: right;\n",
       "    }\n",
       "</style>\n",
       "<table border=\"1\" class=\"dataframe\">\n",
       "  <thead>\n",
       "    <tr style=\"text-align: right;\">\n",
       "      <th></th>\n",
       "      <th>method</th>\n",
       "      <th>item</th>\n",
       "      <th>Na_K12</th>\n",
       "      <th>Mg_K12</th>\n",
       "      <th>Al_K12</th>\n",
       "      <th>Si_K12</th>\n",
       "      <th>S_K12</th>\n",
       "      <th>Cl_K12</th>\n",
       "      <th>K_K12</th>\n",
       "      <th>Ca_K12</th>\n",
       "      <th>...</th>\n",
       "      <th>Hg_L1</th>\n",
       "      <th>Hg_M1</th>\n",
       "      <th>Pb_L1</th>\n",
       "      <th>Pb_M1</th>\n",
       "      <th>Bi_L1</th>\n",
       "      <th>Bi_M1</th>\n",
       "      <th>Th_L1</th>\n",
       "      <th>Th_M1</th>\n",
       "      <th>U_L1</th>\n",
       "      <th>U_M1</th>\n",
       "    </tr>\n",
       "  </thead>\n",
       "  <tbody>\n",
       "    <tr>\n",
       "      <th>34</th>\n",
       "      <td>kee1</td>\n",
       "      <td>0001_57_276_1</td>\n",
       "      <td>9545</td>\n",
       "      <td>1468</td>\n",
       "      <td>12023</td>\n",
       "      <td>93756</td>\n",
       "      <td>1081</td>\n",
       "      <td>45001</td>\n",
       "      <td>28553</td>\n",
       "      <td>97527</td>\n",
       "      <td>...</td>\n",
       "      <td>8312</td>\n",
       "      <td>598</td>\n",
       "      <td>5118</td>\n",
       "      <td>0</td>\n",
       "      <td>913</td>\n",
       "      <td>0</td>\n",
       "      <td>25373</td>\n",
       "      <td>0</td>\n",
       "      <td>18619</td>\n",
       "      <td>108790</td>\n",
       "    </tr>\n",
       "    <tr>\n",
       "      <th>35</th>\n",
       "      <td>kee1</td>\n",
       "      <td>0001_57_276_1</td>\n",
       "      <td>4487</td>\n",
       "      <td>452</td>\n",
       "      <td>4266</td>\n",
       "      <td>38644</td>\n",
       "      <td>1424</td>\n",
       "      <td>21705</td>\n",
       "      <td>16052</td>\n",
       "      <td>47876</td>\n",
       "      <td>...</td>\n",
       "      <td>3915</td>\n",
       "      <td>0</td>\n",
       "      <td>2907</td>\n",
       "      <td>0</td>\n",
       "      <td>211</td>\n",
       "      <td>0</td>\n",
       "      <td>13184</td>\n",
       "      <td>0</td>\n",
       "      <td>10306</td>\n",
       "      <td>46126</td>\n",
       "    </tr>\n",
       "    <tr>\n",
       "      <th>36</th>\n",
       "      <td>kee1</td>\n",
       "      <td>0001_57_276_1</td>\n",
       "      <td>5246</td>\n",
       "      <td>586</td>\n",
       "      <td>4464</td>\n",
       "      <td>39150</td>\n",
       "      <td>1845</td>\n",
       "      <td>3607</td>\n",
       "      <td>99178</td>\n",
       "      <td>171450</td>\n",
       "      <td>...</td>\n",
       "      <td>3420</td>\n",
       "      <td>0</td>\n",
       "      <td>1969</td>\n",
       "      <td>0</td>\n",
       "      <td>909</td>\n",
       "      <td>0</td>\n",
       "      <td>30598</td>\n",
       "      <td>0</td>\n",
       "      <td>1760</td>\n",
       "      <td>264</td>\n",
       "    </tr>\n",
       "    <tr>\n",
       "      <th>37</th>\n",
       "      <td>kee1</td>\n",
       "      <td>0001_57_276_1</td>\n",
       "      <td>4695</td>\n",
       "      <td>554</td>\n",
       "      <td>4989</td>\n",
       "      <td>38543</td>\n",
       "      <td>1400</td>\n",
       "      <td>19661</td>\n",
       "      <td>10332</td>\n",
       "      <td>40744</td>\n",
       "      <td>...</td>\n",
       "      <td>4496</td>\n",
       "      <td>12</td>\n",
       "      <td>3205</td>\n",
       "      <td>0</td>\n",
       "      <td>633</td>\n",
       "      <td>0</td>\n",
       "      <td>12819</td>\n",
       "      <td>0</td>\n",
       "      <td>8694</td>\n",
       "      <td>47779</td>\n",
       "    </tr>\n",
       "  </tbody>\n",
       "</table>\n",
       "<p>4 rows × 55 columns</p>\n",
       "</div>"
      ],
      "text/plain": [
       "   method           item  Na_K12  Mg_K12  Al_K12  Si_K12  S_K12  Cl_K12  \\\n",
       "34   kee1  0001_57_276_1    9545    1468   12023   93756   1081   45001   \n",
       "35   kee1  0001_57_276_1    4487     452    4266   38644   1424   21705   \n",
       "36   kee1  0001_57_276_1    5246     586    4464   39150   1845    3607   \n",
       "37   kee1  0001_57_276_1    4695     554    4989   38543   1400   19661   \n",
       "\n",
       "    K_K12  Ca_K12  ...  Hg_L1  Hg_M1  Pb_L1  Pb_M1  Bi_L1  Bi_M1  Th_L1  \\\n",
       "34  28553   97527  ...   8312    598   5118      0    913      0  25373   \n",
       "35  16052   47876  ...   3915      0   2907      0    211      0  13184   \n",
       "36  99178  171450  ...   3420      0   1969      0    909      0  30598   \n",
       "37  10332   40744  ...   4496     12   3205      0    633      0  12819   \n",
       "\n",
       "    Th_M1   U_L1    U_M1  \n",
       "34      0  18619  108790  \n",
       "35      0  10306   46126  \n",
       "36      0   1760     264  \n",
       "37      0   8694   47779  \n",
       "\n",
       "[4 rows x 55 columns]"
      ]
     },
     "execution_count": 15,
     "metadata": {},
     "output_type": "execute_result"
    }
   ],
   "source": [
    "df_nocal.query(\"item == '0001_57_276_1' and method == 'kee1'\")"
   ]
  },
  {
   "cell_type": "code",
   "execution_count": 25,
   "id": "138d7230-eb0c-4472-b67a-1c15bf49d1f1",
   "metadata": {},
   "outputs": [
    {
     "name": "stdout",
     "output_type": "stream",
     "text": [
      "df:\n",
      "   method        item  Na_K12  Ni_K12  Y_K12  Zr_K12  Pd_K12  Pd_L1  Cd_K12  \\\n",
      "0   kee1  0000_55506    7410   57611      0    2087   32131  19589      79   \n",
      "1   kee1  0000_55506    7087   53532      0     319   32767  15797     151   \n",
      "2   kee1  0000_55506    7013   54398    952    1271   31754  20014      74   \n",
      "3   kee1  0000_55506    7407   58073    663       0   32201  17923     510   \n",
      "4   kee1  0000_55506    6250   44619    675    1060   27868  19619     156   \n",
      "\n",
      "   Cd_L1  \n",
      "0      0  \n",
      "1      0  \n",
      "2      0  \n",
      "3      0  \n",
      "4      0  \n",
      "standardized:\n",
      "   method        item    Na_K12    Ni_K12     Y_K12    Zr_K12    Pd_K12  \\\n",
      "0   kee1  0000_55506  1.299440  2.465913 -0.473483 -0.709212  0.783553   \n",
      "1   kee1  0000_55506  1.136753  2.192264 -0.473483 -0.933952  0.834751   \n",
      "2   kee1  0000_55506  1.099481  2.250362 -0.001744 -0.812938  0.753205   \n",
      "3   kee1  0000_55506  1.297929  2.496908 -0.144950 -0.974502  0.789188   \n",
      "4   kee1  0000_55506  0.715179  1.594315 -0.139004 -0.839760  0.440386   \n",
      "\n",
      "      Pd_L1    Cd_K12  Cd_L1  \n",
      "0  0.421387 -0.606949    0.0  \n",
      "1 -0.149152 -0.355128    0.0  \n",
      "2  0.485332 -0.624437    0.0  \n",
      "3  0.170723  0.900482    0.0  \n",
      "4  0.425901 -0.337640    0.0  \n",
      "components:\n",
      " pc1: [ 0.47620774  0.38491079  0.27106975  0.35160783  0.49044572  0.38061556\n",
      "  0.2062954  -0.        ] \n",
      " pc2: [ 0.11754266 -0.07626297 -0.48958819 -0.42399764 -0.07606195  0.44424339\n",
      "  0.59812999  0.        ]\n",
      "explained variance ratio:\n",
      " [0.55465052 0.22011414]\n",
      "total variance in columns: 77.48%\n",
      "importance of elements\n",
      "  element  component_1  component_2   product\n",
      "5   Pd_L1     0.380616     0.444243  0.169086\n",
      "3  Zr_K12     0.351608    -0.423998  0.149081\n",
      "2   Y_K12     0.271070    -0.489588  0.132713\n",
      "6  Cd_K12     0.206295     0.598130  0.123391\n",
      "0  Na_K12     0.476208     0.117543  0.055975\n",
      "4  Pd_K12     0.490446    -0.076062  0.037304\n",
      "1  Ni_K12     0.384911    -0.076263  0.029354\n",
      "7   Cd_L1    -0.000000     0.000000  0.000000\n"
     ]
    },
    {
     "data": {
      "image/png": "[encoded data removed]",
      "text/plain": [
       "<Figure size 720x720 with 1 Axes>"
      ]
     },
     "metadata": {
      "needs_background": "light"
     },
     "output_type": "display_data"
    }
   ],
   "source": [
    "make_pca_and_plot(data=df_nocal, method=\"kee1\", wanted_elements=['Ni', 'Cd', 'Pd', 'Na', 'Zr', 'Y'])"
   ]
  },
  {
   "cell_type": "code",
   "execution_count": 18,
   "id": "5a012cde-81b9-4d74-8d83-3cd08ce3ca5c",
   "metadata": {},
   "outputs": [],
   "source": [
    "all_elements = list(set([col.split(\"_\")[0] for col in df_nocal.columns if col not in [\"method\", \"item\"]]))"
   ]
  },
  {
   "cell_type": "code",
   "execution_count": 19,
   "id": "639f950c-5249-479f-bbe0-34e531f0d8bf",
   "metadata": {},
   "outputs": [],
   "source": [
    "def get_importance_of_combination(data, method, wanted_elements, filename=None):\n",
    "    element_columns = [col for col in data.columns if col not in [\"method\", \"item\"]]\n",
    "    \n",
    "    to_drop = []\n",
    "    for col in element_columns:\n",
    "        elm = col.split(\"_\")[0]\n",
    "        if elm not in wanted_elements:\n",
    "            to_drop.append(col)\n",
    "            \n",
    "    df = data.drop(columns=to_drop).query(f\"method == '{method}'\").reset_index(drop=True)\n",
    "    \n",
    "    element_in_columns_ds = [col for col in df.columns if col not in [\"method\", \"item\"]]\n",
    "    std_data = standardize_columns(df, element_in_columns_ds)\n",
    "    \n",
    "    d = pca(std_data, element_in_columns_ds, n_components=2)\n",
    "    \n",
    "    return wanted_elements, sum(d['model'].explained_variance_ratio_)"
   ]
  },
  {
   "cell_type": "markdown",
   "id": "cc7a4dcb-1f94-40e8-93a2-077ae599b6ff",
   "metadata": {},
   "source": [
    "really we want decent clustering, and good separation between the different clusters. "
   ]
  },
  {
   "cell_type": "code",
   "execution_count": null,
   "id": "06424257-59a2-4fae-ba54-b5d3ba5128ba",
   "metadata": {},
   "outputs": [],
   "source": [
    "from itertools import combinations"
   ]
  },
  {
   "cell_type": "code",
   "execution_count": null,
   "id": "22adad38-0fe0-42fb-97a3-98c323dcb679",
   "metadata": {},
   "outputs": [],
   "source": [
    "import time"
   ]
  },
  {
   "cell_type": "code",
   "execution_count": null,
   "id": "c5217500-e695-44fb-b094-391bb91b7710",
   "metadata": {},
   "outputs": [],
   "source": [
    "from tqdm.notebook import tqdm, trange"
   ]
  },
  {
   "cell_type": "code",
   "execution_count": null,
   "id": "a1765762-28ee-4956-9e52-860a8644fe18",
   "metadata": {},
   "outputs": [],
   "source": [
    "#results = {}"
   ]
  },
  {
   "cell_type": "code",
   "execution_count": null,
   "id": "4d0f6085-7113-4a0b-a26a-a1d3e0a8c948",
   "metadata": {},
   "outputs": [],
   "source": [
    "\"\"\"\n",
    "t0 = time.monotonic()\n",
    "print(\"t0\", t0)\n",
    "for comb in tqdm(combinations(all_elements, 6)):\n",
    "    results[comb] = get_importance_of_combination(data=df_nocal, method=\"kee1\", wanted_elements=comb)\n",
    "t1 = time.monotonic()\n",
    "print(\"DONE!\", \"duration:\", t1-t0)\"\"\""
   ]
  },
  {
   "cell_type": "code",
   "execution_count": null,
   "id": "eac4f85a-8452-42f3-b0c4-9a1b1003eaa7",
   "metadata": {},
   "outputs": [],
   "source": [
    "\"\"\"\n",
    "with open(\"kee1_combos.txt\", 'w') as f:\n",
    "    f.write(str(results))\n",
    "\"\"\""
   ]
  },
  {
   "cell_type": "code",
   "execution_count": null,
   "id": "b7bd3b12-bd18-43bf-af53-fc67825a8abb",
   "metadata": {},
   "outputs": [],
   "source": [
    "with open(\"kee1_combos.txt\", 'r') as f:\n",
    "    bigstr=f.read()"
   ]
  },
  {
   "cell_type": "code",
   "execution_count": null,
   "id": "dfb10e8e-805a-48a0-b50f-8a546f6213f3",
   "metadata": {},
   "outputs": [],
   "source": [
    "\"\"\"\n",
    "#super slowwww\n",
    "import ast\n",
    "results = ast.literal_eval(bigstr)\"\"\""
   ]
  },
  {
   "cell_type": "code",
   "execution_count": null,
   "id": "9c928528-0989-4f84-83f6-d9557f46e889",
   "metadata": {},
   "outputs": [],
   "source": [
    "bigstr[0:1000]"
   ]
  },
  {
   "cell_type": "code",
   "execution_count": 6,
   "id": "7a07d20d-10e0-4e20-9d5c-201512875907",
   "metadata": {},
   "outputs": [
    {
     "data": {
      "text/plain": [
       "[<re.Match object; span=(40, 97), match=\"('Ni', 'Ti', 'Ge', 'Se', 'Mg', 'Au'), 0.708799147>,\n",
       " <re.Match object; span=(138, 195), match=\"('Ni', 'Ti', 'Ge', 'Se', 'Mg', 'Fe'), 0.639220124>,\n",
       " <re.Match object; span=(236, 293), match=\"('Ni', 'Ti', 'Ge', 'Se', 'Mg', 'Cd'), 0.644729677>,\n",
       " <re.Match object; span=(334, 391), match=\"('Ni', 'Ti', 'Ge', 'Se', 'Mg', 'Co'), 0.690757458>,\n",
       " <re.Match object; span=(432, 489), match=\"('Ni', 'Ti', 'Ge', 'Se', 'Mg', 'Ag'), 0.683982051>,\n",
       " <re.Match object; span=(530, 587), match=\"('Ni', 'Ti', 'Ge', 'Se', 'Mg', 'Cr'), 0.624261908>,\n",
       " <re.Match object; span=(628, 685), match=\"('Ni', 'Ti', 'Ge', 'Se', 'Mg', 'Mn'), 0.615294252>,\n",
       " <re.Match object; span=(726, 783), match=\"('Ni', 'Ti', 'Ge', 'Se', 'Mg', 'Cl'), 0.671254117>,\n",
       " <re.Match object; span=(824, 881), match=\"('Ni', 'Ti', 'Ge', 'Se', 'Mg', 'Si'), 0.710530642>,\n",
       " <re.Match object; span=(922, 979), match=\"('Ni', 'Ti', 'Ge', 'Se', 'Mg', 'Pd'), 0.699056404>]"
      ]
     },
     "execution_count": 6,
     "metadata": {},
     "output_type": "execute_result"
    }
   ],
   "source": [
    "import re"
   ]
  },
  {
   "cell_type": "code",
   "execution_count": 17,
   "id": "fb30dfe2-aff9-4fb0-a583-f5d1b1b99133",
   "metadata": {},
   "outputs": [],
   "source": [
    "bigdata = {}\n",
    "it = re.finditer(r\"\\((?P<elements>('[A-z]+'(,?\\s?)){6})\\),(?P<val>\\s\\d+.\\d+)\\)\", bigstr)\n",
    "for match in it:\n",
    "    bigdata[match.group(\"elements\")] = float(match.group(\"val\").strip())"
   ]
  },
  {
   "cell_type": "code",
   "execution_count": 60,
   "id": "502c61d4-9062-42c3-8153-a07bbd891766",
   "metadata": {},
   "outputs": [],
   "source": [
    "combodf = pd.Series(bigdata)\n",
    "combodf = combodf.sort_values()"
   ]
  },
  {
   "cell_type": "code",
   "execution_count": 61,
   "id": "f35f0177-6a44-42e6-9164-508911bad540",
   "metadata": {},
   "outputs": [],
   "source": [
    "cdf = pd.DataFrame(combodf)"
   ]
  },
  {
   "cell_type": "code",
   "execution_count": 82,
   "id": "a989f2bc-9adb-4a9d-be68-7ebe98abdef3",
   "metadata": {},
   "outputs": [
    {
     "data": {
      "text/plain": [
       "'Ni', 'Cd', 'Pd', 'Na', 'Zr', 'Y'     0.774765\n",
       "'Au', 'Si', 'Sn', 'Rb', 'Y', 'As'     0.605697\n",
       "'K', 'Sr', 'Pb', 'Rh', 'Bi', 'As'     0.713860\n",
       "'Ni', 'Cd', 'Co', 'Si', 'Rb', 'V'     0.717758\n",
       "'Ti', 'Ge', 'Cd', 'Si', 'Na', 'Ca'    0.665066\n",
       "'Au', 'Co', 'Ag', 'Ga', 'U', 'Sn'     0.663245\n",
       "'Ti', 'Mn', 'S', 'Sr', 'Zn', 'Hg'     0.614719\n",
       "'Ni', 'Fe', 'Ag', 'Si', 'Rb', 'Hg'    0.632526\n",
       "'Si', 'Nb', 'Na', 'Th', 'Ca', 'Bi'    0.601159\n",
       "'Se', 'S', 'Sr', 'V', 'Zr', 'Y'       0.621888\n",
       "dtype: float64"
      ]
     },
     "execution_count": 82,
     "metadata": {},
     "output_type": "execute_result"
    }
   ],
   "source": [
    "combodf[combodf.between(0.60,0.80)].sample(10)"
   ]
  }
 ],
 "metadata": {
  "kernelspec": {
   "display_name": "Python 3 (ipykernel)",
   "language": "python",
   "name": "python3"
  },
  "language_info": {
   "codemirror_mode": {
    "name": "ipython",
    "version": 3
   },
   "file_extension": ".py",
   "mimetype": "text/x-python",
   "name": "python",
   "nbconvert_exporter": "python",
   "pygments_lexer": "ipython3",
   "version": "3.8.10"
  }
 },
 "nbformat": 4,
 "nbformat_minor": 5
}
