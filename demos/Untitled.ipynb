{
 "cells": [
  {
   "cell_type": "code",
   "execution_count": 1,
   "id": "882107bf-c521-4497-9e04-a445dcca246f",
   "metadata": {},
   "outputs": [],
   "source": [
    "elements = list(set([elm.split(\"_\")[0] for elm in ['Na_K12', 'Mg_K12', 'Al_K12', 'Si_K12', 'S_K12',\n",
    "       'Cl_K12', 'K_K12', 'Ca_K12', 'Ti_K12', 'V_K12', 'Cr_K12', 'Mn_K12',\n",
    "       'Fe_K12', 'Co_K12', 'Ni_K12', 'Cu_K12', 'Zn_K12', 'Ga_K12', 'Ge_K12',\n",
    "       'As_K12', 'Se_K12', 'Br_K12', 'Rb_K12', 'Sr_K12', 'Y_K12', 'Zr_K12',\n",
    "       'Nb_K12', 'Rh_K12', 'Rh_L1', 'Pd_K12', 'Pd_L1', 'Ag_K12', 'Ag_L1',\n",
    "       'Cd_K12', 'Cd_L1', 'Sn_K12', 'Sn_L1', 'Sb_K12', 'Sb_L1', 'Os_L1',\n",
    "       'Os_M1', 'Au_L1', 'Au_M1', 'Hg_L1', 'Hg_M1', 'Pb_L1', 'Pb_M1', 'Bi_L1',\n",
    "       'Bi_M1', 'Th_L1', 'Th_M1', 'U_L1', 'U_M1']]))"
   ]
  },
  {
   "cell_type": "code",
   "execution_count": 3,
   "id": "3834c6be-1e35-4bc5-be39-36e539bc0d8b",
   "metadata": {},
   "outputs": [
    {
     "data": {
      "text/plain": [
       "40"
      ]
     },
     "execution_count": 3,
     "metadata": {},
     "output_type": "execute_result"
    }
   ],
   "source": [
    "len(elements)"
   ]
  },
  {
   "cell_type": "code",
   "execution_count": 7,
   "id": "8367b0d6-e490-4fd7-8e22-9fca135cef6c",
   "metadata": {},
   "outputs": [],
   "source": [
    "n_comb = 3838380"
   ]
  },
  {
   "cell_type": "code",
   "execution_count": 8,
   "id": "d8bb73e4-e413-46a6-aaec-4452ba0aa4c3",
   "metadata": {},
   "outputs": [],
   "source": [
    "hours = n_comb/(160 * 3600)"
   ]
  },
  {
   "cell_type": "code",
   "execution_count": 9,
   "id": "cdf5b6d7-1ba7-4c43-832c-a8b1b2c2bdb4",
   "metadata": {},
   "outputs": [
    {
     "data": {
      "text/plain": [
       "6.663854166666667"
      ]
     },
     "execution_count": 9,
     "metadata": {},
     "output_type": "execute_result"
    }
   ],
   "source": [
    "hours"
   ]
  }
 ],
 "metadata": {
  "kernelspec": {
   "display_name": "Python 3 (ipykernel)",
   "language": "python",
   "name": "python3"
  },
  "language_info": {
   "codemirror_mode": {
    "name": "ipython",
    "version": 3
   },
   "file_extension": ".py",
   "mimetype": "text/x-python",
   "name": "python",
   "nbconvert_exporter": "python",
   "pygments_lexer": "ipython3",
   "version": "3.9.1"
  }
 },
 "nbformat": 4,
 "nbformat_minor": 5
}
